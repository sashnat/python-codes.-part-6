{
 "cells": [
  {
   "cell_type": "heading",
   "metadata": {},
   "level": 2,
   "source": [
    "Смысл абстрактного класса в том, что он необходим, но его нельзя инстанциировать.\n",
    "\n",
    "Абстрактным классом мы накладываем обязательство на тех, кто будет от него наследовать реализовать те методы, которые мы укажем.\n"
   ]
  },
  {
   "cell_type": "code",
   "execution_count": 12,
   "metadata": {
    "collapsed": true
   },
   "outputs": [
    {
     "name": "stdout",
     "output_type": "stream",
     "text": [
      "Hello from Basic class_1\nEnriched functionality_1\nSecond_1\n"
     ]
    }
   ],
   "source": [
    "\n",
    "from abc import ABC, abstractmethod\n",
    "\n",
    "class Basic(ABC):\n",
    "    @abstractmethod\n",
    "    def hello(self):\n",
    "        print(\"Hello from Basic class_1\")\n",
    "    @abstractmethod\n",
    "    def second(self):\n",
    "        pass\n",
    "        #print(\"Second1\")\n",
    "\n",
    "class Advanced(Basic):\n",
    "    def hello(self):\n",
    "        super().hello()\n",
    "        print(\"Enriched functionality_1\")\n",
    "    def second(self):\n",
    "        super().second()\n",
    "        print(\"Second_1\")\n",
    "a = Advanced()\n",
    "a.hello()\n",
    "a.second()"
   ]
  },
  {
   "cell_type": "heading",
   "metadata": {},
   "level": 4,
   "source": [
    "класс Advan должен обязательно иметь имплементацию метода second,  поскольку это задекларировано в родительском классе Base:"
   ]
  },
  {
   "cell_type": "code",
   "execution_count": 16,
   "metadata": {},
   "outputs": [
    {
     "ename": "TypeError",
     "evalue": "Can't instantiate abstract class Advan with abstract methods second",
     "traceback": [
      "\u001b[0;31m---------------------------------------------------------------------------\u001b[0m",
      "\u001b[0;31mTypeError\u001b[0m                                 Traceback (most recent call last)",
      "\u001b[0;32m<ipython-input-16-85ab3dd5f62f>\u001b[0m in \u001b[0;36m<module>\u001b[0;34m()\u001b[0m\n\u001b[1;32m     17\u001b[0m     \u001b[0;31m#     super().second()\u001b[0m\u001b[0;34m\u001b[0m\u001b[0;34m\u001b[0m\u001b[0m\n\u001b[1;32m     18\u001b[0m     \u001b[0;31m#     print(\"Second_2\")\u001b[0m\u001b[0;34m\u001b[0m\u001b[0;34m\u001b[0m\u001b[0m\n\u001b[0;32m---> 19\u001b[0;31m \u001b[0mb\u001b[0m \u001b[0;34m=\u001b[0m \u001b[0mAdvan\u001b[0m\u001b[0;34m(\u001b[0m\u001b[0;34m)\u001b[0m\u001b[0;34m\u001b[0m\u001b[0m\n\u001b[0m\u001b[1;32m     20\u001b[0m \u001b[0;31m#b.hello()\u001b[0m\u001b[0;34m\u001b[0m\u001b[0;34m\u001b[0m\u001b[0m\n\u001b[1;32m     21\u001b[0m \u001b[0;31m#b.second()\u001b[0m\u001b[0;34m\u001b[0m\u001b[0;34m\u001b[0m\u001b[0m\n",
      "\u001b[0;31mTypeError\u001b[0m: Can't instantiate abstract class Advan with abstract methods second"
     ],
     "output_type": "error"
    }
   ],
   "source": [
    "\n",
    "\n",
    "class Base(ABC):\n",
    "    @abstractmethod\n",
    "    def hello(self):\n",
    "        print(\"Hello from Basic class_2\")\n",
    "    @abstractmethod\n",
    "    def second(self):\n",
    "        pass\n",
    "        #print(\"Second1\")\n",
    "\n",
    "class Advan(Base):\n",
    "    def hello(self):\n",
    "        super().hello()\n",
    "        print(\"Enriched functionality_2\")\n",
    "    # def second(self):\n",
    "    #     super().second()\n",
    "    #     print(\"Second_2\")\n",
    "b = Advan()\n",
    "#b.hello()\n",
    "#b.second()\n"
   ]
  },
  {
   "cell_type": "code",
   "execution_count": 7,
   "metadata": {},
   "outputs": [],
   "source": []
  },
  {
   "cell_type": "code",
   "execution_count": null,
   "metadata": {},
   "outputs": [],
   "source": []
  }
 ],
 "metadata": {
  "kernelspec": {
   "display_name": "Python 2",
   "language": "python",
   "name": "python2"
  },
  "language_info": {
   "codemirror_mode": {
    "name": "ipython",
    "version": 2
   },
   "file_extension": ".py",
   "mimetype": "text/x-python",
   "name": "python",
   "nbconvert_exporter": "python",
   "pygments_lexer": "ipython2",
   "version": "2.7.6"
  }
 },
 "nbformat": 4,
 "nbformat_minor": 0
}
