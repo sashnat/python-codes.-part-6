{
 "cells": [
  {
   "cell_type": "markdown",
   "metadata": {},
   "source": [
    "Pandas + Classes coded by Nataliya Sashnikova"
   ]
  },
  {
   "cell_type": "markdown",
   "metadata": {},
   "source": [
    "Variant 2"
   ]
  },
  {
   "cell_type": "markdown",
   "metadata": {},
   "source": [
    "The task is to create excel files with files' lists divided into \".xlsx\" and not \".xlsx\". \n",
    "Classes + Pandas code.\n",
    "a list of files forms into a separate file, depending on the type of file, with a Class variable as the path to the files."
   ]
  },
  {
   "cell_type": "code",
   "execution_count": 4,
   "metadata": {
    "collapsed": true
   },
   "outputs": [],
   "source": [
    "class File():\n",
    "     def __init__(self, way): # конструктор класса, создает атрибуты объекту\n",
    "         self.way = way\n",
    "         #self.what()\n",
    "\n",
    "     def what(self):\n",
    "         exc = []        # excel format list\n",
    "         non_exc = []    # not excel format list\n",
    "         for file in os.listdir(self.way):\n",
    "            if file.endswith(\".xlsx\"):\n",
    "                 exc.append(file)\n",
    "                 ex = pd.DataFrame({ 'A' : exc})\n",
    "                 ex.to_excel('C:\\\\Users\\E277460\\PycharmProjects\\\\Jupyter\\\\exc - var1.xlsx')\n",
    "                 \n",
    "            else:\n",
    "                 non_exc.append(file)\n",
    "                 non_ex = pd.DataFrame({ 'B' : non_exc})\n",
    "                 non_ex.to_excel('C:\\\\Users\\E277460\\PycharmProjects\\\\Jupyter\\\\non_exc - var1.xlsx')\n",
    "                "
   ]
  },
  {
   "cell_type": "code",
   "execution_count": 5,
   "metadata": {},
   "outputs": [],
   "source": [
    "import os\n",
    "import pandas as pd\n",
    "import matplotlib.pyplot as plt\n",
    "import numpy as np\n",
    "import seaborn as sns\n",
    "from openpyxl import load_workbook\n",
    "\n",
    "ways = File(r'C:\\\\Users\\E277460\\PycharmProjects\\Jupyter\\exercise_1')\n",
    "ways.what()"
   ]
  },
  {
   "cell_type": "code",
   "execution_count": null,
   "metadata": {},
   "outputs": [],
   "source": []
  }
 ],
 "metadata": {
  "kernelspec": {
   "display_name": "Python 2",
   "language": "python",
   "name": "python2"
  },
  "language_info": {
   "codemirror_mode": {
    "name": "ipython",
    "version": 2
   },
   "file_extension": ".py",
   "mimetype": "text/x-python",
   "name": "python",
   "nbconvert_exporter": "python",
   "pygments_lexer": "ipython2",
   "version": "2.7.6"
  }
 },
 "nbformat": 4,
 "nbformat_minor": 0
}
