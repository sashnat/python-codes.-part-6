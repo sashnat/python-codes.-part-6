{
 "cells": [
  {
   "cell_type": "markdown",
   "metadata": {},
   "source": [
    "Pandas + Classes coded by Nataliya Sashnikova."
   ]
  },
  {
   "cell_type": "markdown",
   "metadata": {},
   "source": [
    "Наследование и Полиморфизм в ООП Classes + Pandas - 1 variant"
   ]
  },
  {
   "cell_type": "markdown",
   "metadata": {},
   "source": [
    "The task is to create excel files with files' lists divided into \".xlsx\" and not \".xlsx\". \n",
    "Classes + Pandas code.\n",
    "a list of files forms into a separate file, depending on the type of file, with a Class variable as the path to the files."
   ]
  },
  {
   "cell_type": "code",
   "execution_count": 1,
   "metadata": {
    "collapsed": true
   },
   "outputs": [],
   "source": [
    "class File():\n",
    "     def __init__(self, way): # конструктор класса, создает атрибуты объекту\n",
    "         # Большинство классов имеют специальный метод, \n",
    "         # который автоматически при создании объекта создает ему атрибуты. \n",
    "         # Т.е. вызывать данный метод не нужно, т.к. он сам запускается при вызове класса. \n",
    "         # (Вызов класса происходит, когда создается объект.) \n",
    "         # Такой метод называется конструктором класса и в языке программирования Python \n",
    "         # носит имя __init__. (В начале и конце по два знака подчеркивания.)\n",
    "\n",
    "         # Первым параметром, как и у любого другого метода, у __init__ является self, \n",
    "         # на место которого подставляется объект в момент его создания. \n",
    "         # Второй и последующие (если есть) параметры заменяются аргументами, переданными в конструктор при вызове класса.\n",
    "         \n",
    "         self.way = way                    # variable \n",
    "         self.files = os.listdir(self.way) # list variable of files\n",
    "         self.s = set(self.files)          # aggregate variable of files\n",
    "         self.p = set(list(filter(lambda x: x.find('regression_') > 0 and x.endswith(\".xlsx\"), sorted(list(self.s))))) # list(filter(function, iterable)\n",
    "         self.np = set(list(filter(lambda x: not x.endswith(\".xlsx\"), sorted(list(self.s)))))\n",
    "         self.dp = pd.DataFrame({ 'A' : list(self.p)})"
   ]
  },
  {
   "cell_type": "code",
   "execution_count": 2,
   "metadata": {
    "collapsed": false
   },
   "outputs": [],
   "source": [
    "class Exc_file(File): # Inheritance\n",
    "      \n",
    "      def out(self):  # Polymorphism\n",
    "          for file in self.p:\n",
    "              print(os.path.join(self.way, file))\n",
    "              \n",
    "          # Запись в файлы\n",
    "          self.dp_1 = pd.DataFrame({'A1' : list(self.s - self.p - self.np)})  \n",
    "          self.dp_1.to_excel('C:\\\\Users\\E277460\\PycharmProjects\\Jupyter\\c-exc-1.xlsx')   # file contains rest of excel files\n",
    "          self.dp.to_excel('C:\\\\Users\\E277460\\PycharmProjects\\Jupyter\\c-exc.xlsx')  # file contains excel files names with 'regression_'\n",
    "          \n",
    "          print(self.dp)\n",
    "          print(self.dp_1)"
   ]
  },
  {
   "cell_type": "code",
   "execution_count": 3,
   "metadata": {
    "collapsed": true
   },
   "outputs": [],
   "source": [
    "class Others_file(File): # Inheritance\n",
    "      #def count_file(self):\n",
    "      def out(self):     # Polymorphism\n",
    "          print('------------------------Others----------------------------')\n",
    "          for file in self.np:\n",
    "              print(os.path.join(self.way, file))  # print not excel files"
   ]
  },
  {
   "cell_type": "code",
   "execution_count": 4,
   "metadata": {},
   "outputs": [
    {
     "name": "stdout",
     "output_type": "stream",
     "text": [
      "C:\\\\Users\\E277460\\PycharmProjects\\Jupyter\\exercise_1\\linear_regression_df1.xlsx\nC:\\\\Users\\E277460\\PycharmProjects\\Jupyter\\exercise_1\\linear_regression_df.xlsx\nC:\\\\Users\\E277460\\PycharmProjects\\Jupyter\\exercise_1\\linear_regression_df0.xlsx\nC:\\\\Users\\E277460\\PycharmProjects\\Jupyter\\exercise_1\\linear_regression_df2.xlsx\nC:\\\\Users\\E277460\\PycharmProjects\\Jupyter\\exercise_1\\linear_regression_d_f.xlsx\n                            A\n0  linear_regression_df1.xlsx\n1   linear_regression_df.xlsx\n2  linear_regression_df0.xlsx\n3  linear_regression_df2.xlsx\n4  linear_regression_d_f.xlsx\n                               A1\n0                   vac_form.xlsx\n1          to compare files1.xlsx\n2                  count pdf.xlsx\n3                      c pdf.xlsx\n4           to compare files.xlsx\n5            vac_form - Copy.xlsx\n6  to compare files 15_12_17.xlsx\n------------------------Others----------------------------\nC:\\\\Users\\E277460\\PycharmProjects\\Jupyter\\exercise_1\\exercise_777.ipynb\nC:\\\\Users\\E277460\\PycharmProjects\\Jupyter\\exercise_1\\Шпора.py\nC:\\\\Users\\E277460\\PycharmProjects\\Jupyter\\exercise_1\\for trying.ipynb\nC:\\\\Users\\E277460\\PycharmProjects\\Jupyter\\exercise_1\\decoration.py\nC:\\\\Users\\E277460\\PycharmProjects\\Jupyter\\exercise_1\\Classes + Pandas (2d variant).ipynb\nC:\\\\Users\\E277460\\PycharmProjects\\Jupyter\\exercise_1\\dic_py + pandas\nC:\\\\Users\\E277460\\PycharmProjects\\Jupyter\\exercise_1\\Classes + Pandas.ipynb\nC:\\\\Users\\E277460\\PycharmProjects\\Jupyter\\exercise_1\\to compare files in different folders.ipynb\nC:\\\\Users\\E277460\\PycharmProjects\\Jupyter\\exercise_1\\игра с начальником на отпуск.py\nC:\\\\Users\\E277460\\PycharmProjects\\Jupyter\\exercise_1\\exercise_888.ipynb\nC:\\\\Users\\E277460\\PycharmProjects\\Jupyter\\exercise_1\\for work - how many files in the job folder.ipynb\nC:\\\\Users\\E277460\\PycharmProjects\\Jupyter\\exercise_1\\.ipynb_checkpoints\n"
     ]
    }
   ],
   "source": [
    "import os\n",
    "import pandas as pd\n",
    "import matplotlib.pyplot as plt\n",
    "import numpy as np\n",
    "import seaborn as sns\n",
    "from openpyxl import load_workbook\n",
    "\n",
    "\n",
    "var_way = r'C:\\\\Users\\E277460\\PycharmProjects\\Jupyter\\exercise_1'\n",
    "'''\n",
    "for file in os.listdir(way):\n",
    "    if file.endswith(\".xlsx\"):\n",
    "        ways = Exc_file(way) # объект класса\n",
    "        \n",
    "    else:\n",
    "        c_file = Others_file(way) # объект класса\n",
    "''' \n",
    "ways = Exc_file(var_way)\n",
    "c_file = Others_file(var_way)\n",
    "\n",
    "ways.out()\n",
    "c_file.out()\n"
   ]
  }
 ],
 "metadata": {
  "kernelspec": {
   "display_name": "Python 2",
   "language": "python",
   "name": "python2"
  },
  "language_info": {
   "codemirror_mode": {
    "name": "ipython",
    "version": 2
   },
   "file_extension": ".py",
   "mimetype": "text/x-python",
   "name": "python",
   "nbconvert_exporter": "python",
   "pygments_lexer": "ipython2",
   "version": "2.7.6"
  }
 },
 "nbformat": 4,
 "nbformat_minor": 0
}
