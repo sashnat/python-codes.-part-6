{
 "cells": [
  {
   "cell_type": "markdown",
   "metadata": {},
   "source": [
    "Pandas + Classes coded by Nataliya Sashnikova"
   ]
  },
  {
   "cell_type": "markdown",
   "metadata": {},
   "source": [
    "# Task is to create excel files with files list divided into \".xlsx\" and \"not \".xlsx"
   ]
  },
  {
   "cell_type": "code",
   "execution_count": 1,
   "metadata": {
    "collapsed": true
   },
   "outputs": [],
   "source": [
    "class File():\n",
    "     def __init__(self, way):\n",
    "         self.way = way                    # variable \n",
    "         self.files = os.listdir(self.way) # list variable of files\n",
    "         self.s = set(self.files)          # aggregate variable of files\n",
    "         self.p = set(list(filter(lambda x: x.find('regression_') > 0 and x.endswith(\".xlsx\"), sorted(list(self.s))))) # list(filter(function, iterable)\n",
    "         self.np = set(list(filter(lambda x: not x.endswith(\".xlsx\"), sorted(list(self.s)))))\n",
    "         dp = pd.DataFrame({ 'A' : list(self.p)})\n",
    "         self.dp = dp"
   ]
  },
  {
   "cell_type": "code",
   "execution_count": 2,
   "metadata": {
    "collapsed": false
   },
   "outputs": [],
   "source": [
    "class Exc_file(File):\n",
    "      \n",
    "      def out(self):\n",
    "          self.dp.head(100)\n",
    "          for file in self.p:\n",
    "              print(os.path.join(self.way, file))\n",
    "    \n",
    "          dp_1 = pd.DataFrame({'A1' : list(self.s - self.p - self.np)})  \n",
    "          \n",
    "          self.dp.to_excel('C:\\\\Users\\E277460\\PycharmProjects\\Jupyter\\c-exc.xlsx')  # file contains excel files names with 'regression_'\n",
    "          dp_1.to_excel('C:\\\\Users\\E277460\\PycharmProjects\\Jupyter\\c-exc-1.xlsx')   # file contains rest of excel files\n",
    "          \n",
    "          print(self.dp)\n",
    "          print(dp_1)"
   ]
  },
  {
   "cell_type": "code",
   "execution_count": 3,
   "metadata": {
    "collapsed": true
   },
   "outputs": [],
   "source": [
    "class Others_file(File):\n",
    "      def count_file(self):\n",
    "          print('------------------------Others----------------------------')\n",
    "          for file in self.np:\n",
    "              print(os.path.join(self.way, file))  # not excel files"
   ]
  },
  {
   "cell_type": "code",
   "execution_count": 5,
   "metadata": {},
   "outputs": [
    {
     "name": "stdout",
     "output_type": "stream",
     "text": [
      "C:\\\\Users\\E277460\\PycharmProjects\\Jupyter\\exercise_1\\linear_regression_df2.xlsx\nC:\\\\Users\\E277460\\PycharmProjects\\Jupyter\\exercise_1\\linear_regression_df.xlsx\nC:\\\\Users\\E277460\\PycharmProjects\\Jupyter\\exercise_1\\linear_regression_df0.xlsx\nC:\\\\Users\\E277460\\PycharmProjects\\Jupyter\\exercise_1\\linear_regression_df1.xlsx\nC:\\\\Users\\E277460\\PycharmProjects\\Jupyter\\exercise_1\\linear_regression_d_f.xlsx\n"
     ]
    },
    {
     "name": "stdout",
     "output_type": "stream",
     "text": [
      "                            A\n0  linear_regression_df2.xlsx\n1   linear_regression_df.xlsx\n2  linear_regression_df0.xlsx\n3  linear_regression_df1.xlsx\n4  linear_regression_d_f.xlsx\n                               A1\n0                  count pdf.xlsx\n1                   vac_form.xlsx\n2          to compare files1.xlsx\n3            vac_form - Copy.xlsx\n4                      c pdf.xlsx\n5  to compare files 15_12_17.xlsx\n6           to compare files.xlsx\n------------------------Others----------------------------\nC:\\\\Users\\E277460\\PycharmProjects\\Jupyter\\exercise_1\\dic + pandas.ipynb\nC:\\\\Users\\E277460\\PycharmProjects\\Jupyter\\exercise_1\\to compare files in different folders.ipynb\nC:\\\\Users\\E277460\\PycharmProjects\\Jupyter\\exercise_1\\dic + pandas (excel).ipynb\nC:\\\\Users\\E277460\\PycharmProjects\\Jupyter\\exercise_1\\for work - how many files in the job folder.ipynb\nC:\\\\Users\\E277460\\PycharmProjects\\Jupyter\\exercise_1\\Classes + Pandas.ipynb\nC:\\\\Users\\E277460\\PycharmProjects\\Jupyter\\exercise_1\\exercise_888.ipynb\nC:\\\\Users\\E277460\\PycharmProjects\\Jupyter\\exercise_1\\игра с начальником на отпуск.py\nC:\\\\Users\\E277460\\PycharmProjects\\Jupyter\\exercise_1\\exercise_777.ipynb\nC:\\\\Users\\E277460\\PycharmProjects\\Jupyter\\exercise_1\\dic_py + pandas\nC:\\\\Users\\E277460\\PycharmProjects\\Jupyter\\exercise_1\\for trying.ipynb\nC:\\\\Users\\E277460\\PycharmProjects\\Jupyter\\exercise_1\\Шпора.py\nC:\\\\Users\\E277460\\PycharmProjects\\Jupyter\\exercise_1\\.ipynb_checkpoints\nC:\\\\Users\\E277460\\PycharmProjects\\Jupyter\\exercise_1\\игра с начальником на отпуск (for new file).py\n"
     ]
    }
   ],
   "source": [
    "import os\n",
    "import pandas as pd\n",
    "import matplotlib.pyplot as plt\n",
    "import numpy as np\n",
    "import seaborn as sns\n",
    "from openpyxl import load_workbook\n",
    "\n",
    "way = r'C:\\\\Users\\E277460\\PycharmProjects\\Jupyter\\exercise_1'\n",
    "for file in os.listdir(way):\n",
    "    if file.endswith(\".xlsx\"):\n",
    "        ways = Exc_file(way)\n",
    "        \n",
    "    else:\n",
    "        c_file = Others_file(way)\n",
    "        \n",
    "ways.out()\n",
    "c_file.count_file()"
   ]
  }
 ],
 "metadata": {
  "kernelspec": {
   "display_name": "Python 2",
   "language": "python",
   "name": "python2"
  },
  "language_info": {
   "codemirror_mode": {
    "name": "ipython",
    "version": 2
   },
   "file_extension": ".py",
   "mimetype": "text/x-python",
   "name": "python",
   "nbconvert_exporter": "python",
   "pygments_lexer": "ipython2",
   "version": "2.7.6"
  }
 },
 "nbformat": 4,
 "nbformat_minor": 0
}
